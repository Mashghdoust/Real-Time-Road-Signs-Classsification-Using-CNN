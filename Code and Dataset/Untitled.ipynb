{
 "cells": [
  {
   "cell_type": "markdown",
   "metadata": {},
   "source": [
    "# Libraries"
   ]
  },
  {
   "cell_type": "code",
   "execution_count": 7,
   "metadata": {},
   "outputs": [],
   "source": [
    "import numpy as np\n",
    "import cv2\n",
    "import os\n",
    "import glob\n",
    "import tensorflow as tf\n",
    "import sklearn\n",
    "import cv"
   ]
  },
  {
   "cell_type": "markdown",
   "metadata": {},
   "source": [
    "# Train Data"
   ]
  },
  {
   "cell_type": "code",
   "execution_count": 2,
   "metadata": {},
   "outputs": [],
   "source": [
    "path = 'C:\\\\Users\\\\AMIRHOSEIN\\\\Desktop\\\\New folder\\\\Mechatronic'\n",
    "path_train=path+'/train 1'\n",
    "os.chdir(path_train)"
   ]
  },
  {
   "cell_type": "code",
   "execution_count": 3,
   "metadata": {},
   "outputs": [],
   "source": [
    "images=[]\n",
    "labels=[]\n",
    "l=0"
   ]
  },
  {
   "cell_type": "code",
   "execution_count": 4,
   "metadata": {},
   "outputs": [],
   "source": [
    "for folder in ['1','2','3','4','5','6','7','8','9','10','11','12']:\n",
    "    os.chdir(path_train+\"/\"+folder)\n",
    "    for file in glob.glob(\"*\"):\n",
    "        I=cv2.imread(file)\n",
    "        I=cv2.resize(I,(50,50),interpolation=cv2.INTER_CUBIC)\n",
    "        images.append(I)\n",
    "        labels.append(l)\n",
    "    l=l+1"
   ]
  },
  {
   "cell_type": "code",
   "execution_count": 5,
   "metadata": {},
   "outputs": [],
   "source": [
    "y = tf.keras.utils.to_categorical(labels)\n",
    "# X, y = sklearn.utils.shuffle(images, y, random_state=4)\n",
    "X=images\n",
    "\n",
    "X=np.array(X)\n",
    "y=np.array(y)"
   ]
  },
  {
   "cell_type": "markdown",
   "metadata": {},
   "source": [
    "# Training the Model"
   ]
  },
  {
   "cell_type": "code",
   "execution_count": 6,
   "metadata": {},
   "outputs": [
    {
     "name": "stdout",
     "output_type": "stream",
     "text": [
      "Epoch 1/3\n",
      "131/131 [==============================] - 122s 931ms/step - loss: 10.4169 - accuracy: 0.6746\n",
      "Epoch 2/3\n",
      "131/131 [==============================] - 113s 863ms/step - loss: 0.3823 - accuracy: 0.8890\n",
      "Epoch 3/3\n",
      "131/131 [==============================] - 120s 915ms/step - loss: 0.1724 - accuracy: 0.9484\n"
     ]
    },
    {
     "data": {
      "text/plain": [
       "<keras.callbacks.History at 0x24b5df8b7c8>"
      ]
     },
     "execution_count": 6,
     "metadata": {},
     "output_type": "execute_result"
    }
   ],
   "source": [
    "model=tf.keras.models.Sequential([\n",
    "        tf.keras.layers.Conv2D(256,(3,3),activation = \"relu\" , input_shape = (50,50,3)) ,\n",
    "        tf.keras.layers.MaxPooling2D(pool_size=2) ,\n",
    "        tf.keras.layers.Conv2D(128,(3,3),activation = \"relu\") ,  \n",
    "        tf.keras.layers.Flatten(),\n",
    "        tf.keras.layers.Dense(64,activation= \"relu\") ,\n",
    "        tf.keras.layers.Dense(12,activation= \"softmax\")\n",
    "        ])\n",
    "\n",
    "\n",
    "model.compile(optimizer='adam', loss='categorical_crossentropy',\n",
    "              metrics=['accuracy'])\n",
    "\n",
    "model.fit(X, y, epochs=3)"
   ]
  },
  {
   "cell_type": "markdown",
   "metadata": {},
   "source": [
    "# Test Data"
   ]
  },
  {
   "cell_type": "code",
   "execution_count": 8,
   "metadata": {},
   "outputs": [],
   "source": [
    "path = 'C:\\\\Users\\\\AMIRHOSEIN\\\\Desktop\\\\New folder\\\\Mechatronic'\n",
    "path_test=path+'/test 1'\n",
    "os.chdir(path_train)\n",
    "images=[]\n",
    "labels=[]\n",
    "l=0\n",
    "\n",
    "for folder in ['1','2','3','4','5','6','7','8','9','10','11','12']:\n",
    "    os.chdir(path_test+\"/\"+folder)\n",
    "    for file in glob.glob(\"*\"):\n",
    "        I=cv2.imread(file)\n",
    "        I=cv2.resize(I,(50,50),interpolation=cv2.INTER_CUBIC)\n",
    "        images.append(I)\n",
    "        labels.append(l)\n",
    "    l=l+1"
   ]
  },
  {
   "cell_type": "code",
   "execution_count": 9,
   "metadata": {},
   "outputs": [],
   "source": [
    "y_test = tf.keras.utils.to_categorical(labels)\n",
    "X_test, y_test = sklearn.utils.shuffle(images, y_test, random_state=4)\n",
    "X_test=np.array(X_test)\n",
    "y_test=np.array(y_test)"
   ]
  },
  {
   "cell_type": "markdown",
   "metadata": {},
   "source": [
    "# Evaluating Model"
   ]
  },
  {
   "cell_type": "code",
   "execution_count": 10,
   "metadata": {},
   "outputs": [
    {
     "name": "stdout",
     "output_type": "stream",
     "text": [
      "89.47886228561401\n"
     ]
    }
   ],
   "source": [
    "scores = model.evaluate(X_test, y_test, verbose=0)\n",
    "print(scores[1]*100)"
   ]
  },
  {
   "cell_type": "code",
   "execution_count": null,
   "metadata": {},
   "outputs": [],
   "source": []
  },
  {
   "cell_type": "code",
   "execution_count": 11,
   "metadata": {},
   "outputs": [],
   "source": [
    "os.chdir(path)\n",
    "\n",
    "def warning(I):\n",
    "    I=cv2.resize(I,(50,50),interpolation=cv2.INTER_CUBIC)\n",
    "    re=model.predict(I.reshape(1,50,50,3))\n",
    "    reult = np.where(re[0] == np.amax(re[0]))[0][0]\n",
    "    M=cv2.imread(\"0.png\")\n",
    "    if reult==0:\n",
    "        I0=cv2.imread(\"1.jpg\")\n",
    "        M0=M.copy()\n",
    "        M0[100:260,530:690,:]=cv2.resize(I0,(160,160),interpolation=cv2.INTER_CUBIC)\n",
    "        M0 = cv2.putText(M0, 'Traffic light ahead!', (470,310), fontFace = cv2.FONT_HERSHEY_SIMPLEX, \n",
    "        fontScale=1, color=(255,0,0), thickness=2)\n",
    "        \n",
    "    elif reult==1:\n",
    "        I0=cv2.imread(\"2.jpg\")\n",
    "        M0=M.copy()\n",
    "        M0[100:260,530:690,:]=cv2.resize(I0,(160,160),interpolation=cv2.INTER_CUBIC)\n",
    "        M0 = cv2.putText(M0, 'Right zigzag bend!', (470,310), fontFace = cv2.FONT_HERSHEY_SIMPLEX, \n",
    "        fontScale=1, color=(255,0,0), thickness=2)\n",
    "        \n",
    "    elif reult==2:\n",
    "        I0=cv2.imread(\"3.jpg\")\n",
    "        M0=M.copy()\n",
    "        M0[100:260,530:690,:]=cv2.resize(I0,(160,160),interpolation=cv2.INTER_CUBIC)\n",
    "        M0 = cv2.putText(M0, 'Slippery road ahead!', (470,310), fontFace = cv2.FONT_HERSHEY_SIMPLEX, \n",
    "        fontScale=1, color=(255,0,0), thickness=2)\n",
    "        \n",
    "    elif reult==3:\n",
    "        I0=cv2.imread(\"4.jpg\")\n",
    "        M0=M.copy()\n",
    "        M0[100:260,530:690,:]=cv2.resize(I0,(160,160),interpolation=cv2.INTER_CUBIC)\n",
    "        M0 = cv2.putText(M0, 'Uneven road!', (470,310), fontFace = cv2.FONT_HERSHEY_SIMPLEX, \n",
    "        fontScale=1, color=(255,0,0), thickness=2)\n",
    "        \n",
    "    elif reult==4:\n",
    "        I0=cv2.imread(\"5.jpg\")\n",
    "        M0=M.copy()\n",
    "        M0[100:260,530:690,:]=cv2.resize(I0,(160,160),interpolation=cv2.INTER_CUBIC)\n",
    "        M0 = cv2.putText(M0, 'Loose Gravel!', (470,310), fontFace = cv2.FONT_HERSHEY_SIMPLEX, \n",
    "        fontScale=1, color=(255,0,0), thickness=2)\n",
    "        \n",
    "    elif reult==5:\n",
    "        I0=cv2.imread(\"6.jpg\")\n",
    "        M0=M.copy()\n",
    "        M0[100:260,530:690,:]=cv2.resize(I0,(160,160),interpolation=cv2.INTER_CUBIC)\n",
    "        M0 = cv2.putText(M0, 'Pedestrian crossing!', (470,310), fontFace = cv2.FONT_HERSHEY_SIMPLEX, \n",
    "        fontScale=1, color=(255,0,0), thickness=2)\n",
    "        \n",
    "    elif reult==6:\n",
    "        I0=cv2.imread(\"7.jpg\")\n",
    "        M0=M.copy()\n",
    "        M0[100:260,530:690,:]=cv2.resize(I0,(160,160),interpolation=cv2.INTER_CUBIC)\n",
    "        M0 = cv2.putText(M0, 'STOP', (570,310), fontFace = cv2.FONT_HERSHEY_SIMPLEX, \n",
    "        fontScale=1, color=(255,0,0), thickness=2)\n",
    "        \n",
    "    elif reult==7:\n",
    "        I0=cv2.imread(\"8.jpg\")\n",
    "        M0=M.copy()\n",
    "        M0[100:260,530:690,:]=cv2.resize(I0,(160,160),interpolation=cv2.INTER_CUBIC)\n",
    "        M0 = cv2.putText(M0, 'No entry!', (540,310), fontFace = cv2.FONT_HERSHEY_SIMPLEX, \n",
    "        fontScale=1, color=(255,0,0), thickness=2)\n",
    "        \n",
    "    elif reult==8:\n",
    "        I0=cv2.imread(\"9.jpg\")\n",
    "        M0=M.copy()\n",
    "        M0[100:260,530:690,:]=cv2.resize(I0,(160,160),interpolation=cv2.INTER_CUBIC)\n",
    "        M0 = cv2.putText(M0, 'Danger!', (570,310), fontFace = cv2.FONT_HERSHEY_SIMPLEX, \n",
    "        fontScale=1, color=(255,0,0), thickness=2)\n",
    "        \n",
    "    elif reult==9:\n",
    "        I0=cv2.imread(\"10.jpg\")\n",
    "        M0=M.copy()\n",
    "        M0[100:260,530:690,:]=cv2.resize(I0,(160,160),interpolation=cv2.INTER_CUBIC)\n",
    "        M0 = cv2.putText(M0, 'Maximum speed : 60', (470,310), fontFace = cv2.FONT_HERSHEY_SIMPLEX, \n",
    "        fontScale=1, color=(255,0,0), thickness=2)\n",
    "        \n",
    "    elif reult==10:\n",
    "        I0=cv2.imread(\"11.jpg\")\n",
    "        M0=M.copy()\n",
    "        M0[100:260,530:690,:]=cv2.resize(I0,(160,160),interpolation=cv2.INTER_CUBIC)\n",
    "        M0 = cv2.putText(M0, 'Maximum speed : 80', (470,310), fontFace = cv2.FONT_HERSHEY_SIMPLEX, \n",
    "        fontScale=1, color=(255,0,0), thickness=2)\n",
    "        \n",
    "    elif reult==11:\n",
    "        I0=cv2.imread(\"12.jpg\")\n",
    "        M0=M.copy()\n",
    "        M0[100:260,530:690,:]=cv2.resize(I0,(160,160),interpolation=cv2.INTER_CUBIC)\n",
    "        M0 = cv2.putText(M0, 'No through road!', (470,310), fontFace = cv2.FONT_HERSHEY_SIMPLEX, \n",
    "        fontScale=1, color=(255,0,0), thickness=2)\n",
    "    return M0"
   ]
  },
  {
   "cell_type": "code",
   "execution_count": null,
   "metadata": {},
   "outputs": [],
   "source": []
  },
  {
   "cell_type": "code",
   "execution_count": null,
   "metadata": {},
   "outputs": [],
   "source": []
  },
  {
   "cell_type": "code",
   "execution_count": null,
   "metadata": {},
   "outputs": [],
   "source": []
  },
  {
   "cell_type": "code",
   "execution_count": null,
   "metadata": {},
   "outputs": [],
   "source": []
  },
  {
   "cell_type": "code",
   "execution_count": null,
   "metadata": {},
   "outputs": [],
   "source": []
  },
  {
   "cell_type": "code",
   "execution_count": 14,
   "metadata": {},
   "outputs": [],
   "source": [
    "\n",
    "# define a video capture object\n",
    "cap = cv2.VideoCapture(0)\n",
    "H=cv2.imread('0.png')\n",
    "H=cv2.resize(H,(640,480),interpolation=cv2.INTER_CUBIC)\n",
    "while(True):\n",
    "    \n",
    "    # Capture the video frame\n",
    "    # by frame\n",
    "    ret, frame = cap.read()\n",
    "\n",
    "    # Display the resulting frame\n",
    "    I=frame\n",
    "    I = np.ascontiguousarray(I, dtype=np.uint8)\n",
    "    I = cv2.rectangle(I, (190,120), (450,380), (255,0,0), 2)\n",
    "    I = np.concatenate((I,H))\n",
    "\n",
    "    cv2.imshow('frame', I)\n",
    "    cv2.waitKey(1)\n",
    "\n",
    "\n",
    "    if cv2.waitKey(1) & 0xFF == ord('q'):\n",
    "        break\n",
    "        \n",
    "        \n",
    "    if cv2.waitKey(1) & 0xFF == ord('s'):\n",
    "        S=I[120:380,190:450,:]\n",
    "        H=warning(S)\n",
    "        H=cv2.resize(H,(640,480),interpolation=cv2.INTER_CUBIC)\n",
    "        \n",
    "    if cv2.waitKey(1) & 0xFF == ord('w'):\n",
    "        H=cv2.imread('0.png')\n",
    "        H=cv2.resize(H,(640,480),interpolation=cv2.INTER_CUBIC)\n",
    "# After the loop release the cap object\n",
    "cap.release()\n",
    "# Destroy all the windows\n",
    "cv2.destroyAllWindows()\n"
   ]
  },
  {
   "cell_type": "code",
   "execution_count": null,
   "metadata": {},
   "outputs": [],
   "source": []
  },
  {
   "cell_type": "code",
   "execution_count": null,
   "metadata": {},
   "outputs": [],
   "source": []
  },
  {
   "cell_type": "code",
   "execution_count": null,
   "metadata": {},
   "outputs": [],
   "source": []
  },
  {
   "cell_type": "code",
   "execution_count": 60,
   "metadata": {},
   "outputs": [],
   "source": []
  },
  {
   "cell_type": "code",
   "execution_count": null,
   "metadata": {},
   "outputs": [],
   "source": []
  },
  {
   "cell_type": "code",
   "execution_count": null,
   "metadata": {},
   "outputs": [],
   "source": []
  },
  {
   "cell_type": "code",
   "execution_count": null,
   "metadata": {},
   "outputs": [],
   "source": []
  }
 ],
 "metadata": {
  "kernelspec": {
   "display_name": "Python 3",
   "language": "python",
   "name": "python3"
  },
  "language_info": {
   "codemirror_mode": {
    "name": "ipython",
    "version": 3
   },
   "file_extension": ".py",
   "mimetype": "text/x-python",
   "name": "python",
   "nbconvert_exporter": "python",
   "pygments_lexer": "ipython3",
   "version": "3.7.6"
  }
 },
 "nbformat": 4,
 "nbformat_minor": 4
}
